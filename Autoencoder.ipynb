{
  "nbformat": 4,
  "nbformat_minor": 0,
  "metadata": {
    "colab": {
      "provenance": []
    },
    "kernelspec": {
      "name": "python3",
      "display_name": "Python 3"
    },
    "language_info": {
      "name": "python"
    }
  },
  "cells": [
    {
      "cell_type": "code",
      "execution_count": null,
      "metadata": {
        "id": "N__Jk15pPSbt"
      },
      "outputs": [],
      "source": [
        "!unzip /content/diabetes_012_health_indicators_BRFSS2015.csv.zip"
      ]
    },
    {
      "cell_type": "code",
      "source": [
        "import pandas as pd\n",
        "import numpy as np\n",
        "import matplotlib.pyplot as plt\n",
        "from sklearn.model_selection import train_test_split\n",
        "from sklearn.preprocessing import StandardScaler\n",
        "from sklearn.metrics import accuracy_score, classification_report, confusion_matrix\n",
        "import seaborn as sns\n",
        "import tensorflow as tf\n",
        "from tensorflow.keras import layers, models\n",
        "from imblearn.over_sampling import SMOTE\n",
        "from sklearn.metrics import classification_report, confusion_matrix, roc_auc_score, roc_curve, auc\n",
        "from tensorflow.keras.models import Sequential\n",
        "from tensorflow.keras.layers import Dense, Dropout\n",
        "from tensorflow.keras.utils import to_categorical\n",
        "import shap"
      ],
      "metadata": {
        "id": "suTCGZf2PUhw"
      },
      "execution_count": null,
      "outputs": []
    },
    {
      "cell_type": "code",
      "source": [
        "# Load the dataset\n",
        "file_path = '/content/diabetes_012_health_indicators_BRFSS2015.csv'\n",
        "data = pd.read_csv(file_path)"
      ],
      "metadata": {
        "id": "mY7BBW7KPavb"
      },
      "execution_count": null,
      "outputs": []
    },
    {
      "cell_type": "code",
      "source": [
        "# Separate features and target\n",
        "X = data.drop('Diabetes_012', axis=1).values\n",
        "y = data['Diabetes_012'].values\n",
        "\n",
        "# Handle class imbalance using SMOTE\n",
        "smote = SMOTE(random_state=42)\n",
        "X_resampled, y_resampled = smote.fit_resample(X, y)\n",
        "\n",
        "# Normalize the data\n",
        "scaler = StandardScaler()\n",
        "X_scaled = scaler.fit_transform(X_resampled)\n",
        "\n",
        "# Split the data\n",
        "X_train, X_test, y_train, y_test = train_test_split(X_scaled, y_resampled, test_size=0.2, random_state=42)"
      ],
      "metadata": {
        "id": "FCERfOeYPj4X"
      },
      "execution_count": null,
      "outputs": []
    },
    {
      "cell_type": "code",
      "source": [
        "# Define the Autoencoder\n",
        "input_dim = X_train.shape[1]\n",
        "encoding_dim = 32\n",
        "input_layer = layers.Input(shape=(input_dim,))\n",
        "encoded = layers.Dense(encoding_dim, activation='relu')(input_layer)\n",
        "encoded = layers.Dense(16, activation='relu')(encoded)\n",
        "decoded = layers.Dense(16, activation='relu')(encoded)\n",
        "decoded = layers.Dense(input_dim, activation='sigmoid')(decoded)\n",
        "\n",
        "autoencoder = models.Model(inputs=input_layer, outputs=decoded)\n",
        "autoencoder.compile(optimizer='adam', loss='mean_squared_error')\n",
        "\n",
        "train_auto_dataset = tf.data.Dataset.from_tensor_slices((X_train, X_train)).batch(32).shuffle(buffer_size=1024)\n",
        "history_autoencoder = autoencoder.fit(train_auto_dataset, epochs=30, verbose=1)"
      ],
      "metadata": {
        "id": "7QSMqqFKPqZR"
      },
      "execution_count": null,
      "outputs": []
    },
    {
      "cell_type": "code",
      "source": [
        "# Extract the encoder model\n",
        "encoder = models.Model(inputs=input_layer, outputs=encoded)\n",
        "\n",
        "# Build the classifier\n",
        "encoded_input = layers.Input(shape=(16,))\n",
        "classifier_layer = layers.Dense(32, activation='relu')(encoded_input)\n",
        "classifier_layer = layers.Dense(16, activation='relu')(classifier_layer)\n",
        "classifier_layer = layers.Dense(3, activation='softmax')(classifier_layer)\n",
        "classifier = models.Model(inputs=encoded_input, outputs=classifier_layer)\n",
        "classifier.compile(optimizer=tf.keras.optimizers.Adam(learning_rate=0.001),\n",
        "                   loss='sparse_categorical_crossentropy', metrics=['accuracy'])"
      ],
      "metadata": {
        "id": "XcEF7cbvPupZ"
      },
      "execution_count": null,
      "outputs": []
    },
    {
      "cell_type": "code",
      "source": [
        "# Prepare encoded data\n",
        "X_train_encoded = encoder.predict(X_train)\n",
        "X_test_encoded = encoder.predict(X_test)\n",
        "\n",
        "train_dataset = tf.data.Dataset.from_tensor_slices((X_train_encoded, y_train)).batch(32).shuffle(buffer_size=1024)\n",
        "val_dataset = tf.data.Dataset.from_tensor_slices((X_test_encoded, y_test)).batch(32)\n",
        "\n",
        "# Train the classifier\n",
        "history_classifier = classifier.fit(train_dataset, validation_data=val_dataset, epochs=30, verbose=1)\n",
        "\n",
        "# Evaluate the model\n",
        "y_pred = classifier.predict(X_test_encoded)\n",
        "y_pred_classes = np.argmax(y_pred, axis=1)\n",
        "\n",
        "train_accuracy = accuracy_score(y_train, np.argmax(classifier.predict(X_train_encoded), axis=1))\n",
        "test_accuracy = accuracy_score(y_test, y_pred_classes)\n",
        "\n",
        "print(\"Training Accuracy:\", train_accuracy)\n",
        "print(\"Testing Accuracy:\", test_accuracy)\n",
        "print(\"Classification Report:\\n\", classification_report(y_test, y_pred_classes))"
      ],
      "metadata": {
        "id": "X4tGyJuvPxm_"
      },
      "execution_count": null,
      "outputs": []
    },
    {
      "cell_type": "code",
      "source": [
        "# Confusion matrix\n",
        "conf_matrix = confusion_matrix(y_test, y_pred_classes)\n",
        "plt.figure(figsize=(8, 6))\n",
        "sns.heatmap(conf_matrix, annot=True, cmap='Blues', fmt='g')\n",
        "plt.title('Confusion Matrix')\n",
        "plt.xlabel('Predicted Class')\n",
        "plt.ylabel('True Class')\n",
        "plt.show()"
      ],
      "metadata": {
        "id": "t14uJJAQP1Sb"
      },
      "execution_count": null,
      "outputs": []
    },
    {
      "cell_type": "code",
      "source": [
        "# ROC Curve and AUC\n",
        "fpr = {}\n",
        "tpr = {}\n",
        "thresh ={}\n",
        "roc_auc = {}\n",
        "\n",
        "for i in range(3):\n",
        "    fpr[i], tpr[i], thresh[i] = roc_curve((y_test==i).\n",
        "    astype(int), y_pred[:, i])\n",
        "    roc_auc[i] = auc(fpr[i], tpr[i])\n",
        "\n",
        "plt.figure(figsize=(8,6))\n",
        "for i in range(3):\n",
        "    plt.plot(fpr[i], tpr[i], label=f'Class {i} (AUC = {roc_auc[i]:.2f})')\n",
        "\n",
        "plt.plot([0,1],[0,1],'k--')\n",
        "plt.title('ROC Curve')\n",
        "plt.xlabel('False Positive Rate')\n",
        "plt.ylabel('True Positive Rate')\n",
        "plt.legend()\n",
        "plt.show()"
      ],
      "metadata": {
        "id": "mCSEs72gP7Dc"
      },
      "execution_count": null,
      "outputs": []
    },
    {
      "cell_type": "code",
      "source": [
        "# --- SHAP Value Analysis ---\n",
        "feature_names = data.drop('Diabetes_012', axis=1).columns.tolist()\n",
        "def get_class_predictions(full_model, class_ind, input_data):\n",
        "    encoded = encoder.predict(input_data)\n",
        "    preds = classifier.predict(encoded)\n",
        "    return preds[:, class_ind]\n",
        "\n",
        "X_train = X_train if isinstance(X_train, np.ndarray) else X_train.values\n",
        "X_test = X_test if isinstance(X_test, np.ndarray) else X_test.values\n",
        "\n",
        "# Background and test samples\n",
        "background = X_train[:100]\n",
        "test_samples = X_test[:50]\n",
        "\n",
        "num_classes = 3  # Classes are 0, 1, 2\n",
        "\n",
        "for class_ind in range(num_classes):\n",
        "    print(f\"\\nExplaining Class {class_ind} with SHAP:\")\n",
        "\n",
        "    # Define explainer for each class separately\n",
        "    explainer = shap.KernelExplainer(lambda x:\n",
        "                               get_class_predictions((encoder, classifier),\n",
        "                               class_ind, x), background)\n",
        "\n",
        "    shap_values = explainer.shap_values(test_samples)\n",
        "\n",
        "    print(f\"SHAP values shape for class {class_ind}: {np.array(shap_values).shape}\")\n",
        "\n",
        "    # Plot SHAP summary plot\n",
        "    shap.summary_plot(shap_values, test_samples, feature_names=feature_names)"
      ],
      "metadata": {
        "id": "hLWiFqeKP_4A"
      },
      "execution_count": null,
      "outputs": []
    }
  ]
}