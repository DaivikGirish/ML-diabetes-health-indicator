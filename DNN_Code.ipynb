{
  "nbformat": 4,
  "nbformat_minor": 0,
  "metadata": {
    "colab": {
      "provenance": [],
      "gpuType": "T4"
    },
    "kernelspec": {
      "name": "python3",
      "display_name": "Python 3"
    },
    "language_info": {
      "name": "python"
    },
    "accelerator": "GPU"
  },
  "cells": [
    {
      "cell_type": "code",
      "execution_count": null,
      "metadata": {
        "id": "o1cmUpSLNPko"
      },
      "outputs": [],
      "source": [
        "!unzip /content/diabetes_012_health_indicators_BRFSS2015.csv.zip"
      ]
    },
    {
      "cell_type": "code",
      "source": [
        "import matplotlib.pyplot as plt\n",
        "import seaborn as sns\n",
        "import pandas as pd\n",
        "import numpy as np\n",
        "from sklearn.model_selection import train_test_split\n",
        "from sklearn.preprocessing import StandardScaler\n",
        "from sklearn.metrics import classification_report, confusion_matrix, roc_auc_score, roc_curve, auc\n",
        "from tensorflow.keras.models import Sequential\n",
        "from tensorflow.keras.layers import Dense, Dropout\n",
        "from tensorflow.keras.utils import to_categorical\n",
        "import shap"
      ],
      "metadata": {
        "id": "aW3LyKPmNR4w"
      },
      "execution_count": null,
      "outputs": []
    },
    {
      "cell_type": "code",
      "source": [
        "# Load the dataset\n",
        "file_path = r'/content/diabetes_012_health_indicators_BRFSS2015.csv'\n",
        "data = pd.read_csv(file_path)"
      ],
      "metadata": {
        "id": "w8rXvDNzNaso"
      },
      "execution_count": null,
      "outputs": []
    },
    {
      "cell_type": "code",
      "source": [
        "# --- Exploratory Data Analysis (EDA) ---\n",
        "\n",
        "# Distribution plots for each feature\n",
        "data.hist(bins=30, figsize=(20, 15), edgecolor='black')\n",
        "plt.suptitle('Feature Distributions')\n",
        "plt.tight_layout()\n",
        "plt.show()\n",
        "\n",
        "# Target variable distribution\n",
        "sns.countplot(x='Diabetes_012', data=data)\n",
        "plt.title('Target Variable Distribution')\n",
        "plt.xlabel('Diabetes Class')\n",
        "plt.ylabel('Count')\n",
        "plt.show()\n",
        "\n",
        "# Correlation matrix of features\n",
        "plt.figure(figsize=(16, 12))\n",
        "sns.heatmap(data.corr(), annot=False, cmap='coolwarm')\n",
        "plt.title('Correlation Matrix of Features')\n",
        "plt.show()\n",
        "\n",
        "# Correlation of features with target variable\n",
        "correlations = data.corr()['Diabetes_012'].sort_values(ascending=False)\n",
        "plt.figure(figsize=(10, 8))\n",
        "sns.barplot(x=correlations.values, y=correlations.index)\n",
        "plt.title('Correlation with Target Variable')\n",
        "plt.show()\n",
        "\n",
        "# Separate features and target\n",
        "X = data.drop(columns=['Diabetes_012'])\n",
        "y = data['Diabetes_012']\n",
        "\n",
        "# One-hot encode the target variable\n",
        "y_encoded = to_categorical(y)\n",
        "\n",
        "# Normalize the features\n",
        "scaler = StandardScaler()\n",
        "X_scaled = scaler.fit_transform(X)\n",
        "\n",
        "# Split into training, validation, and testing sets\n",
        "X_train, X_temp, y_train, y_temp = train_test_split(X_scaled, y_encoded, test_size=0.3, random_state=42, stratify=y)\n",
        "X_val, X_test, y_val, y_test = train_test_split(X_temp, y_temp, test_size=0.5, random_state=42, stratify=y_temp.argmax(axis=1))"
      ],
      "metadata": {
        "id": "RdHyL-_ANhyg"
      },
      "execution_count": null,
      "outputs": []
    },
    {
      "cell_type": "code",
      "source": [
        "# Build the DNN model\n",
        "model = Sequential([\n",
        "    Dense(256, activation='relu', input_shape=(X_train.shape[1],)),\n",
        "    Dropout(0.4),\n",
        "    Dense(128, activation='relu'),\n",
        "    Dropout(0.3),\n",
        "    Dense(64, activation='relu'),\n",
        "    Dense(y_encoded.shape[1], activation='softmax')\n",
        "])\n",
        "\n",
        "# Compile the model\n",
        "model.compile(optimizer='adam', loss='categorical_crossentropy',\n",
        "              metrics=['accuracy'])\n",
        "\n",
        "# Train the model\n",
        "history = model.fit(X_train, y_train, validation_data=(X_val, y_val),\n",
        "                    epochs=30, batch_size=64, verbose=1)\n",
        "\n",
        "# Evaluate the model on the test set\n",
        "test_loss, test_accuracy = model.evaluate(X_test, y_test, verbose=0)\n",
        "\n",
        "# Predict the test data\n",
        "y_pred = model.predict(X_test)\n",
        "y_pred_classes = y_pred.argmax(axis=1)\n",
        "y_test_classes = y_test.argmax(axis=1)\n",
        "\n",
        "# Generate classification report and confusion matrix\n",
        "report = classification_report(y_test_classes, y_pred_classes,\n",
        "                               target_names=['Class 0', 'Class 1', 'Class 2'])\n",
        "conf_matrix = confusion_matrix(y_test_classes, y_pred_classes)"
      ],
      "metadata": {
        "id": "p3ivkNpzNo23"
      },
      "execution_count": null,
      "outputs": []
    },
    {
      "cell_type": "code",
      "source": [
        "# Display results\n",
        "print(f\"Training Accuracy: {history.history['accuracy'][-1]:.4f}\")\n",
        "print(f\"Validation Accuracy: {history.history['val_accuracy'][-1]:.4f}\")\n",
        "print(f\"Testing Accuracy: {test_accuracy:.4f}\")\n",
        "print(\"\\nClassification Report:\")\n",
        "print(report)\n",
        "\n",
        "# Plot training and validation accuracy and loss\n",
        "plt.figure(figsize=(14, 5))\n",
        "\n",
        "# Plot accuracy\n",
        "plt.subplot(1, 2, 1)\n",
        "plt.plot(history.history['accuracy'], label='Training Accuracy')\n",
        "plt.plot(history.history['val_accuracy'], label='Validation Accuracy')\n",
        "plt.title('Accuracy over Epochs')\n",
        "plt.xlabel('Epochs')\n",
        "plt.ylabel('Accuracy')\n",
        "plt.legend()\n",
        "\n",
        "# Plot loss\n",
        "plt.subplot(1, 2, 2)\n",
        "plt.plot(history.history['loss'], label='Training Loss')\n",
        "plt.plot(history.history['val_loss'], label='Validation Loss')\n",
        "plt.title('Loss over Epochs')\n",
        "plt.xlabel('Epochs')\n",
        "plt.ylabel('Loss')\n",
        "plt.legend()\n",
        "\n",
        "plt.show()\n",
        "\n",
        "# Plot confusion matrix as a heatmap\n",
        "plt.figure(figsize=(8, 6))\n",
        "sns.heatmap(conf_matrix, annot=True, fmt='d', cmap='Greens', xticklabels=['Class 0', 'Class 1', 'Class 2'], yticklabels=['Class 0', 'Class 1', 'Class 2'])\n",
        "plt.title('Confusion Matrix')\n",
        "plt.xlabel('Predicted label')\n",
        "plt.ylabel('True label')\n",
        "plt.show()"
      ],
      "metadata": {
        "id": "_DtGW2h1NtDl"
      },
      "execution_count": null,
      "outputs": []
    },
    {
      "cell_type": "code",
      "source": [
        "# ROC Curve and AUC\n",
        "fpr = {}\n",
        "tpr = {}\n",
        "thresh ={}\n",
        "roc_auc = {}\n",
        "\n",
        "for i in range(3):\n",
        "    fpr[i], tpr[i], thresh[i] = roc_curve((y_test_classes==i).\n",
        "                                          astype(int),y_pred[:, i])\n",
        "    roc_auc[i] = auc(fpr[i], tpr[i])\n",
        "\n",
        "plt.figure(figsize=(8,6))\n",
        "for i in range(3):\n",
        "    plt.plot(fpr[i], tpr[i], label=f'Class {i} (AUC = {roc_auc[i]:.2f})')\n",
        "\n",
        "plt.plot([0,1],[0,1],'k--')\n",
        "plt.title('ROC Curve')\n",
        "plt.xlabel('False Positive Rate')\n",
        "plt.ylabel('True Positive Rate')\n",
        "plt.legend()\n",
        "plt.show()"
      ],
      "metadata": {
        "id": "bLuoQQRRN4TL"
      },
      "execution_count": null,
      "outputs": []
    },
    {
      "cell_type": "code",
      "source": [
        "# --- SHAP KernelExplainer ---\n",
        "\n",
        "def get_class_predictions(model, class_ind, input_data):\n",
        "    return model.predict(input_data)[:, class_ind]\n",
        "\n",
        "X_train = X_train if isinstance(X_train, np.ndarray) else X_train.values\n",
        "X_test = X_test if isinstance(X_test, np.ndarray) else X_test.values\n",
        "\n",
        "background = X_train[:100]\n",
        "test_samples = X_test[:50]\n",
        "\n",
        "num_classes = y_encoded.shape[1]\n",
        "\n",
        "for class_ind in range(num_classes):\n",
        "    print(f\"\\nExplaining Class {class_ind} with SHAP:\")\n",
        "\n",
        "    explainer = shap.KernelExplainer(lambda x:\n",
        "                get_class_predictions(model, class_ind, x), background)\n",
        "\n",
        "    shap_values = explainer.shap_values(test_samples)\n",
        "\n",
        "    print(f\"SHAP values shape: {np.array(shap_values).shape}\")"
      ],
      "metadata": {
        "id": "LvJd9VJKN6sA"
      },
      "execution_count": null,
      "outputs": []
    },
    {
      "cell_type": "code",
      "source": [
        "feature_names = X.columns\n",
        "for class_ind in range(num_classes):\n",
        "    shap.summary_plot(shap_values, test_samples, feature_names=feature_names)"
      ],
      "metadata": {
        "id": "fHB87dpibJki"
      },
      "execution_count": null,
      "outputs": []
    }
  ]
}